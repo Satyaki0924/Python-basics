{
 "cells": [
  {
   "cell_type": "markdown",
   "id": "b1275ac2",
   "metadata": {},
   "source": [
    "# Syntaxes and Semantics in python"
   ]
  },
  {
   "cell_type": "markdown",
   "id": "956123cc",
   "metadata": {},
   "source": [
    "## Variables are case sensitive\n",
    "Variables are case sensitive in python. Python will treat variables name and Name as 2 seperate enitites"
   ]
  },
  {
   "cell_type": "code",
   "execution_count": 20,
   "id": "90587a2e",
   "metadata": {},
   "outputs": [
    {
     "name": "stdout",
     "output_type": "stream",
     "text": [
      "False\n"
     ]
    }
   ],
   "source": [
    "name = \"Satyaki\"\n",
    "Name = \"Sanyal\"\n",
    "print(name == Name)"
   ]
  },
  {
   "cell_type": "markdown",
   "id": "8d5e1438",
   "metadata": {},
   "source": [
    "## Indentation\n",
    "Python follows indentation to delimit blocks of code and group them. Java for example uses braces {}"
   ]
  },
  {
   "cell_type": "code",
   "execution_count": 21,
   "id": "c5828a40",
   "metadata": {},
   "outputs": [
    {
     "name": "stdout",
     "output_type": "stream",
     "text": [
      "You are an adult\n"
     ]
    }
   ],
   "source": [
    "age = 25\n",
    "if age > 18:\n",
    "    print(\"You are an adult\") # code is indented to show it is part of the if block"
   ]
  },
  {
   "cell_type": "code",
   "execution_count": 22,
   "id": "03683996",
   "metadata": {},
   "outputs": [
    {
     "name": "stdout",
     "output_type": "stream",
     "text": [
      "You are an adult\n",
      "This line is outside the if block\n"
     ]
    }
   ],
   "source": [
    "age = 25\n",
    "\n",
    "if age > 18: \n",
    "    print(\"You are an adult\") # This would print as age is > 18\n",
    "    if age > 65:\n",
    "        print(\"You are a senior citizen\") # This won't print as age is not > 65\n",
    "print(\"This line is outside the if block\") # this line is outside the if block and would print regardless of the if condition"
   ]
  },
  {
   "cell_type": "markdown",
   "id": "7f4e8165",
   "metadata": {},
   "source": [
    "## Comments\n",
    "Python uses # to mark a single line comment. For multi line comments, python uses quotes (''' or \"\"\")"
   ]
  },
  {
   "cell_type": "code",
   "execution_count": 23,
   "id": "8d7c6a42",
   "metadata": {},
   "outputs": [
    {
     "name": "stdout",
     "output_type": "stream",
     "text": [
      "Hello, World!\n"
     ]
    }
   ],
   "source": [
    "# This is a single line comment\n",
    "\n",
    "'''\n",
    "This is a multi-line comment.\n",
    "You can write as many lines as you want.\n",
    "Python will ignore this block if it is not assigned to a variable or used as a docstring\n",
    "'''\n",
    "\n",
    "\"\"\"\n",
    "This is also a multi-line comment.\n",
    "You can also use triple double quotes for multi-line comments too.\n",
    "\"\"\"\n",
    "print(\"Hello, World!\")"
   ]
  },
  {
   "cell_type": "markdown",
   "id": "9b13fc3b",
   "metadata": {},
   "source": [
    "## Line continuation\n",
    "In python a long line of code can be carried forward to the next line with a backslash (\\\\)"
   ]
  },
  {
   "cell_type": "code",
   "execution_count": 24,
   "id": "9f3a1fee",
   "metadata": {},
   "outputs": [
    {
     "name": "stdout",
     "output_type": "stream",
     "text": [
      "21\n",
      "This is a long sentence that we want to split into multiple lines for better readability.\n"
     ]
    }
   ],
   "source": [
    "total = 1 + 2 + 3 + \\\n",
    "        4 + 5 + 6\n",
    "print(total)\n",
    "\n",
    "sentence = \"This is a long sentence that we want to \\\n",
    "split into multiple lines for better readability.\"\n",
    "print(sentence)"
   ]
  },
  {
   "cell_type": "markdown",
   "id": "577b8174",
   "metadata": {},
   "source": [
    "## Multiple declarations\n",
    "In python we can declare multiple variables in a single line by using a ; seperator"
   ]
  },
  {
   "cell_type": "code",
   "execution_count": 25,
   "id": "c3953092",
   "metadata": {},
   "outputs": [
    {
     "name": "stdout",
     "output_type": "stream",
     "text": [
      "10 20 30\n"
     ]
    }
   ],
   "source": [
    "x = 10; y = 20; z = x + y\n",
    "print(x, y, z)"
   ]
  },
  {
   "cell_type": "markdown",
   "id": "db4b19a2",
   "metadata": {},
   "source": [
    "## Variable assignments\n",
    "Python has auto variable assignments. \n",
    "In languages like Java, the variable needs a declaration beforehand. For example: int x = 10;\n",
    "In python we can just do x = 10 and the compiler would understand"
   ]
  },
  {
   "cell_type": "code",
   "execution_count": 26,
   "id": "c6a4e12c",
   "metadata": {},
   "outputs": [
    {
     "name": "stdout",
     "output_type": "stream",
     "text": [
      "<class 'int'>\n",
      "<class 'float'>\n",
      "<class 'str'>\n"
     ]
    }
   ],
   "source": [
    "x = 10; y = 20.0; z = \"30\"\n",
    "\n",
    "print(type(x))  # Output: <class 'int'>\n",
    "print(type(y))  # Output: <class 'float'>\n",
    "print(type(z))  # Output: <class 'str'>"
   ]
  },
  {
   "cell_type": "code",
   "execution_count": 27,
   "id": "d75795f5",
   "metadata": {},
   "outputs": [
    {
     "name": "stdout",
     "output_type": "stream",
     "text": [
      "<class 'str'>\n"
     ]
    }
   ],
   "source": [
    "x = 10\n",
    "x = \"Hello\"\n",
    "print(type(x))  # Would print <class 'str'> as the last assignment is a string"
   ]
  },
  {
   "cell_type": "code",
   "execution_count": null,
   "id": "8c9a1c9e",
   "metadata": {},
   "outputs": [],
   "source": []
  }
 ],
 "metadata": {
  "kernelspec": {
   "display_name": "Python 3",
   "language": "python",
   "name": "python3"
  },
  "language_info": {
   "codemirror_mode": {
    "name": "ipython",
    "version": 3
   },
   "file_extension": ".py",
   "mimetype": "text/x-python",
   "name": "python",
   "nbconvert_exporter": "python",
   "pygments_lexer": "ipython3",
   "version": "3.12.11"
  }
 },
 "nbformat": 4,
 "nbformat_minor": 5
}
